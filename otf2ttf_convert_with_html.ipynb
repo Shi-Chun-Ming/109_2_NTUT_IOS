{
  "nbformat": 4,
  "nbformat_minor": 0,
  "metadata": {
    "colab": {
      "name": "otf2ttf_convert_with_html.ipynb",
      "provenance": [],
      "collapsed_sections": [],
      "include_colab_link": true
    },
    "kernelspec": {
      "name": "python3",
      "display_name": "Python 3"
    },
    "language_info": {
      "name": "python"
    }
  },
  "cells": [
    {
      "cell_type": "markdown",
      "metadata": {
        "id": "view-in-github",
        "colab_type": "text"
      },
      "source": [
        "<a href=\"https://colab.research.google.com/github/Shi-Chun-Ming/109_2_NTUT_IOS/blob/main/otf2ttf_convert_with_html.ipynb\" target=\"_parent\"><img src=\"https://colab.research.google.com/assets/colab-badge.svg\" alt=\"Open In Colab\"/></a>"
      ]
    },
    {
      "cell_type": "markdown",
      "source": [
        "1. Download the Dependencies from github.  \n",
        "2. Change dirctory to otRebuilder directory and install the library with pip.\n",
        "3. Mount your Google Drive to Google Colab. \n",
        "4. List your files in Google Drive \n",
        "5. Start conversion otf->ttf\n",
        "6. Start conversion ttf->otf\n",
        "7. download file "
      ],
      "metadata": {
        "id": "uchI36ESm2Pj"
      }
    },
    {
      "cell_type": "code",
      "source": [
        "from google.colab import output\n",
        "import json, os\n",
        "\n",
        "# Download the otRebuilder library\n",
        "def download_dependencies():\n",
        "  !git clone https://github.com/t109598105/otRebuilder.git\n",
        "\n",
        "  return\n",
        "\n",
        "# Install otRebuilder via pip\n",
        "def install_dependencies():\n",
        "  %cd otRebuilder\n",
        "  !pip3 install .\n",
        "\n",
        "  return\n",
        "\n",
        "# Mount your google drive to the colab VM\n",
        "def mount_google_drive():\n",
        "  from google.colab import drive\n",
        "  drive.mount('/content/gdrive', force_remount=True)\n",
        "\n",
        "  return\n",
        "\n",
        "# List your otf/ttf files in your google drive\n",
        "def list_files():\n",
        "  otf_files = [f for f in os.listdir('/content/gdrive/MyDrive/otf_fonts') if f.split('.')[-1] == 'otf']\n",
        "  ttf_files = [f for f in os.listdir('/content/gdrive/MyDrive/otf_fonts') if f.split('.')[-1] == 'ttf']\n",
        "\n",
        "  return json.dumps({'otf_files': otf_files, 'ttf_files': ttf_files}, ensure_ascii=False)\n",
        "\n",
        "# Convert otf to ttf\n",
        "def otf_to_ttf(otf_file):\n",
        "  otf_path = os.path.join(os.sep, 'content', 'gdrive', 'MyDrive', 'otf_fonts', otf_file)\n",
        "  ttf_path = os.path.join(os.sep, 'content', 'gdrive', 'MyDrive', 'otf_fonts', ''.join(otf_file.split('.')[:-1]+['.ttf']))\n",
        "\n",
        "  !echo \"otrebuild --otf2ttf --UPM 2048 --removeGlyphNames --O1 -o \\\"$ttf_path\\\" \\\"$otf_path\\\"\" | bash\n",
        "\n",
        "  return\n",
        "\n",
        "# Convert ttf to otf\n",
        "def ttf_to_otf(ttf_file):\n",
        "  otf_path = os.path.join(os.sep, 'content', 'gdrive', 'MyDrive', 'otf_fonts', ''.join(ttf_file.split('.')[:-1]+['.otf']))\n",
        "  ttf_path = os.path.join(os.sep, 'content', 'gdrive', 'MyDrive', 'otf_fonts', ttf_file)\n",
        "\n",
        "  !echo \"otrebuild --UPM 2048 --removeGlyphNames --O1 -o \\\"$otf_path\\\" \\\"$ttf_path\\\"\" | bash\n",
        "\n",
        "  return\n",
        "\n",
        "# Register functions\n",
        "funcs = [download_dependencies, install_dependencies, mount_google_drive, list_files, otf_to_ttf, ttf_to_otf]\n",
        "\n",
        "for func in funcs:\n",
        "  output.register_callback(func.__name__, func)"
      ],
      "metadata": {
        "id": "_2Rtadrm2-2Y"
      },
      "execution_count": null,
      "outputs": []
    },
    {
      "cell_type": "markdown",
      "source": [
        "HTML Interface"
      ],
      "metadata": {
        "id": "yhP_0FoG5oDZ"
      }
    },
    {
      "cell_type": "code",
      "source": [
        "%%html\n",
        "<html><head> <meta charset=\"utf-8\"> <style>@import url(https://fonts.googleapis.com/css2?family=Roboto:wght@300&display=swap);*{padding:0;margin:0;box-sizing:border-box}body{font-family:Roboto,sans-serif;background-image:url(https://images.pexels.com/photos/1166644/pexels-photo-1166644.jpeg?cs=srgb&dl=pexels-andreea-ch-1166644.jpg&fm=jpg);background-attachment:fixed;background-position:center;background-size:cover}.main{height:100vh;width:100vw;padding:0 30px}.btn{padding:5px 20px;color:#fff;background-color:#3838db;cursor:pointer;border-style:solid;border-color:#000;border-width:1px;display:inline-block}.main .head{font-size:60px;text-align:center;padding:30px 0;border-bottom-style:solid;font-weight:700}.main .step{text-align:center;padding-top:50px}.main .step .inner{display:inline-block;margin:auto;width:50%}.main .step .step-title{font-size:30px;text-align:left}.main .step .step-operation{padding-top:20px;text-align:right;font-size:25px}.main .step .step-info{padding-top:20px}.main .convert{text-align:center;padding-top:50px}.main .convert .title{font-size:35px;margin-bottom:20px}.main .convert select{font-size:25px;padding:5px;cursor:pointer}.stream{display:none!important}</style></head><body> <div class=\"main\"> <div class=\"head\"> OTF TTF Converter </div><div class=\"step\"> <div class=\"inner\"> <div class=\"step-title\"> Step_<span id=\"step-order\"></span>: <span id=\"step-title\"> </span> </div><div class=\"step-operation\"> <div class=\"btn\" id=\"step-btn\"></div></div><div class=\"step-info\" id=\"step-info\"> </div></div></div><div class=\"convert\" style=\"display: none\"> <div class=\"title\"> Select Font File: </div><select id=\"dropdown-list\"> <option value=\"select\"> Select </option> </select> <div style=\"margin-top:20px;\" id=\"convert_info\"></div></div></div><script src=\"https://d3js.org/d3.v4.min.js\"></script> <script>var pyExecute=function(t,e,n){window.google.colab.kernel.invokeFunction(t,e).then(function(t){\"function\"==typeof n&&n(t)})},isBusy=!1,font_files_list=null,currentStep=0,steps=[{title:\"Download Dependencies\",btnText:\"Download\",info:\"Downloading dependencies, please wait...\",onclick:function(){isBusy||(d3.select(\"#step-info\").style(\"display\",\"block\"),isBusy=!0,pyExecute(\"download_dependencies\",[],function(){isBusy=!1,currentStep++,nextStep()}))}},{title:\"Install Dependencies\",btnText:\"Install\",info:\"Installing dependencies, please wait...\",onclick:function(){isBusy||(isBusy=!0,d3.select(\"#step-info\").style(\"display\",\"block\"),pyExecute(\"install_dependencies\",[],function(){isBusy=!1,currentStep++,nextStep()}))}},{title:\"Mount Google Drive\",btnText:\"Mount\",info:\"Mounting google drive, please confirm the pop-up window...\",onclick:function(){isBusy||(isBusy=!0,d3.select(\"#step-info\").style(\"display\",\"block\"),pyExecute(\"mount_google_drive\",[],function(){isBusy=!1,currentStep++,nextStep()}))}},{title:\"Get font files\",btnText:\"Get\",info:\"Get font files\",onclick:function(){isBusy||(isBusy=!0,d3.select(\"#step-info\").style(\"display\",\"block\"),pyExecute(\"list_files\",[],function(t){isBusy=!1,d3.select(\".step\").style(\"display\",\"none\"),d3.select(\".convert\").style(\"display\",\"block\"),null===font_files_list&&(font_files_list=JSON.parse(t.data[\"text/plain\"].replace(/^'|'$/g,\"\")));var e=font_files_list.otf_files.map(function(t){return{type:\"otf\",name:t}}).concat(font_files_list.ttf_files.map(function(t){return{type:\"ttf\",name:t}})),t=d3.select(\"#dropdown-list\");t.selectAll(\"option\").data([{}].concat(e)).enter().append(\"option\").attr(\"value\",function(t){return t.type+\"_\"+t.name}).text(function(t){return t.name}),console.log(t),t.on(\"change\",function(){var t,e;isBusy||(1==(t=this.value.split(\"_\")).length&&\"select\"==t[0]||(isBusy=!0,e={ttf:{convert:function(t,e){pyExecute(\"ttf_to_otf\",[t],e)},toString:function(){return\"otf\"}},otf:{convert:function(t,e){pyExecute(\"otf_to_ttf\",[t],e)},toString:function(){return\"ttf\"}}},d3.select(\"#convert_info\").text(\"Converting: \"+t[1]+\" to \"+e[t[0]].toString()+\", please wait...\"),e[t[0]].convert(t[1],function(){d3.select(\"#convert_info\").text(\"File: \"+t[1]+\" converted\"),isBusy=!1})))})}))}}];function nextStep(){var t=steps[currentStep];d3.select(\"#step-info\").style(\"display\",\"none\"),d3.select(\"#step-order\").text(currentStep+1),d3.select(\"#step-title\").text(t.title),d3.select(\"#step-btn\").on(\"click\",null),d3.select(\"#step-btn\").text(t.btnText),d3.select(\"#step-btn\").on(\"click\",t.onclick),d3.select(\"#step-info\").text(t.info)}nextStep(); </script></body></html>"
      ],
      "metadata": {
        "id": "nyvNf1ss5pbq"
      },
      "execution_count": null,
      "outputs": []
    }
  ]
}